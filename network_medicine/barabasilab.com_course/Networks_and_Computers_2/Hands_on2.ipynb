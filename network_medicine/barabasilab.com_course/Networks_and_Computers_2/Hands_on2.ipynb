{
 "cells": [
  {
   "cell_type": "markdown",
   "metadata": {
    "slideshow": {
     "slide_type": "slide"
    }
   },
   "source": [
    "# Network generation, paths, connectivity\n",
    "Sebastian Ruf \n",
    "with Emma K. Towlson, Louis Shekhtman, Michael Danziger and A.-Laszlo Barabasi"
   ]
  },
  {
   "cell_type": "markdown",
   "metadata": {
    "slideshow": {
     "slide_type": "slide"
    }
   },
   "source": [
    "* We're going to write our own Erdos-Renyi generation algorithm and use NetworkX to demonstrate some of the concepts and algorithms in the textbook"
   ]
  },
  {
   "cell_type": "markdown",
   "metadata": {
    "slideshow": {
     "slide_type": "fragment"
    }
   },
   "source": [
    "* Open your IPython notebook and load `networkx`, `numpy`, and `matplotlib` as in the last class"
   ]
  },
  {
   "cell_type": "code",
   "execution_count": 1,
   "metadata": {},
   "outputs": [],
   "source": [
    "import numpy as np\n",
    "import networkx as nx\n",
    "import matplotlib.pyplot as plt\n",
    "import matplotlib as mpl\n",
    "%matplotlib inline"
   ]
  },
  {
   "cell_type": "markdown",
   "metadata": {
    "slideshow": {
     "slide_type": "fragment"
    }
   },
   "source": [
    "* Also change the default plot settings so they aren't so heinous"
   ]
  },
  {
   "cell_type": "code",
   "execution_count": 2,
   "metadata": {},
   "outputs": [],
   "source": [
    "# change defaults to be less ugly\n",
    "mpl.rc('xtick', labelsize=14, color=\"#222222\") \n",
    "mpl.rc('ytick', labelsize=14, color=\"#222222\") \n",
    "mpl.rc('font', **{'family':'sans-serif','sans-serif':['Arial']})\n",
    "mpl.rc('font', size=16)\n",
    "mpl.rc('xtick.major', size=6, width=1)\n",
    "mpl.rc('xtick.minor', size=3, width=1)\n",
    "mpl.rc('ytick.major', size=6, width=1)\n",
    "mpl.rc('ytick.minor', size=3, width=1)\n",
    "mpl.rc('axes', linewidth=1, edgecolor=\"#222222\", labelcolor=\"#222222\")\n",
    "mpl.rc('text', usetex=False, color=\"#222222\")"
   ]
  },
  {
   "cell_type": "markdown",
   "metadata": {
    "slideshow": {
     "slide_type": "slide"
    }
   },
   "source": [
    "# Basic data types in Python"
   ]
  },
  {
   "cell_type": "markdown",
   "metadata": {
    "slideshow": {
     "slide_type": "slide"
    }
   },
   "source": [
    "## Primitives\n",
    "Basic math operations are +, -, *, /. For exponentiation, use ** and for integer division use //"
   ]
  },
  {
   "cell_type": "code",
   "execution_count": 3,
   "metadata": {
    "slideshow": {
     "slide_type": "subslide"
    }
   },
   "outputs": [
    {
     "name": "stdout",
     "output_type": "stream",
     "text": [
      "16\n",
      "25.025\n",
      "25.0\n"
     ]
    }
   ],
   "source": [
    "# integer\n",
    "a = 4\n",
    "\n",
    "# floating point\n",
    "b = 100.1\n",
    "\n",
    "# complex\n",
    "c = 1 + 2j\n",
    "\n",
    "# string\n",
    "s = \"Hello, world!\"\n",
    "\n",
    "# boolean\n",
    "t = True\n",
    "f = False\n",
    "\n",
    "print(a**2)\n",
    "print(b/a)\n",
    "print(b//a)"
   ]
  },
  {
   "cell_type": "markdown",
   "metadata": {
    "slideshow": {
     "slide_type": "slide"
    }
   },
   "source": [
    "## Lists\n",
    "Basic ordered container. Supports O(1) indexing, adding to/removing from right side"
   ]
  },
  {
   "cell_type": "code",
   "execution_count": 4,
   "metadata": {
    "slideshow": {
     "slide_type": "subslide"
    }
   },
   "outputs": [
    {
     "name": "stdout",
     "output_type": "stream",
     "text": [
      "[1, (1+2j), 'c', 3.14]\n"
     ]
    }
   ],
   "source": [
    "x = [1, c, \"c\", 3.14]\n",
    "print(x)"
   ]
  },
  {
   "cell_type": "code",
   "execution_count": 5,
   "metadata": {
    "slideshow": {
     "slide_type": "subslide"
    }
   },
   "outputs": [
    {
     "name": "stdout",
     "output_type": "stream",
     "text": [
      "After adding 'hello' the list is\n",
      "[1, (1+2j), 'c', 3.14, 'hello']\n"
     ]
    }
   ],
   "source": [
    "# adding \n",
    "x.append(\"hello\")\n",
    "print(\"After adding 'hello' the list is\")\n",
    "print(x)"
   ]
  },
  {
   "cell_type": "code",
   "execution_count": 6,
   "metadata": {
    "slideshow": {
     "slide_type": "subslide"
    }
   },
   "outputs": [
    {
     "name": "stdout",
     "output_type": "stream",
     "text": [
      "After removing 1 the list is\n",
      "[(1+2j), 'c', 3.14, 'hello']\n"
     ]
    }
   ],
   "source": [
    "# removing\n",
    "print(\"After removing 1 the list is\")\n",
    "x.remove(1)\n",
    "print(x)"
   ]
  },
  {
   "cell_type": "code",
   "execution_count": 7,
   "metadata": {
    "slideshow": {
     "slide_type": "subslide"
    }
   },
   "outputs": [
    {
     "name": "stdout",
     "output_type": "stream",
     "text": [
      "True\n",
      "1\n"
     ]
    }
   ],
   "source": [
    "# testing membership\n",
    "print(3.14 in x)\n",
    "\n",
    "# testing index\n",
    "print(x.index('c'))"
   ]
  },
  {
   "cell_type": "code",
   "execution_count": 8,
   "metadata": {
    "slideshow": {
     "slide_type": "subslide"
    }
   },
   "outputs": [
    {
     "name": "stdout",
     "output_type": "stream",
     "text": [
      "The third element is 3.14\n",
      "The last element is hello\n",
      "The first two elements are [(1+2j), 'c']\n"
     ]
    }
   ],
   "source": [
    "# indexing and slicing. First is 0, last is -1\n",
    "print(\"The third element is\", x[2])\n",
    "print(\"The last element is\", x[-1])\n",
    "print(\"The first two elements are\", x[0:2])"
   ]
  },
  {
   "cell_type": "code",
   "execution_count": 9,
   "metadata": {
    "slideshow": {
     "slide_type": "subslide"
    }
   },
   "outputs": [
    {
     "name": "stdout",
     "output_type": "stream",
     "text": [
      "All the elements of x\n",
      "(1+2j)\n",
      "c\n",
      "3.14\n",
      "hello\n"
     ]
    }
   ],
   "source": [
    "# iterating\n",
    "print(\"All the elements of x\")\n",
    "for elem in x:\n",
    "    print(elem)"
   ]
  },
  {
   "cell_type": "code",
   "execution_count": 10,
   "metadata": {
    "slideshow": {
     "slide_type": "subslide"
    }
   },
   "outputs": [
    {
     "name": "stdout",
     "output_type": "stream",
     "text": [
      "Element number 0 is (1+2j)\n",
      "Element number 1 is c\n",
      "Element number 2 is 3.14\n",
      "Element number 3 is hello\n"
     ]
    }
   ],
   "source": [
    "# the built-in \"enumerate is also handy sometimes\n",
    "for index, elem in enumerate(x):\n",
    "    print(\"Element number\", index, \"is\", elem)"
   ]
  },
  {
   "cell_type": "markdown",
   "metadata": {
    "slideshow": {
     "slide_type": "slide"
    }
   },
   "source": [
    "## Tuples\n",
    "Tuples are immutable lists, more or less"
   ]
  },
  {
   "cell_type": "code",
   "execution_count": 11,
   "metadata": {
    "slideshow": {
     "slide_type": "subslide"
    }
   },
   "outputs": [],
   "source": [
    "y = (1, 2, \"a\")\n",
    "# that's it, no appending or removing allowed"
   ]
  },
  {
   "cell_type": "code",
   "execution_count": 12,
   "metadata": {
    "slideshow": {
     "slide_type": "subslide"
    }
   },
   "outputs": [
    {
     "name": "stdout",
     "output_type": "stream",
     "text": [
      "3\n"
     ]
    }
   ],
   "source": [
    "# size\n",
    "print(len(y))"
   ]
  },
  {
   "cell_type": "code",
   "execution_count": 13,
   "metadata": {
    "slideshow": {
     "slide_type": "subslide"
    }
   },
   "outputs": [
    {
     "name": "stdout",
     "output_type": "stream",
     "text": [
      "The first value in y is 1\n",
      "The last two elements of y are (2, 'a')\n",
      "\n",
      "All the values of y\n",
      "1\n",
      "2\n",
      "a\n",
      "\n",
      "With indices\n",
      "Item 0 is 1\n",
      "Item 1 is 2\n",
      "Item 2 is a\n"
     ]
    }
   ],
   "source": [
    "# indexing, iterating and enumerating\n",
    "print(\"The first value in y is\", y[0])\n",
    "print(\"The last two elements of y are\", y[-2:])\n",
    "\n",
    "print()\n",
    "print(\"All the values of y\")\n",
    "for elem in y:\n",
    "    print(elem)\n",
    "    \n",
    "print()\n",
    "print(\"With indices\")\n",
    "for index, elem in enumerate(y):\n",
    "    print(\"Item\", index, \"is\", elem)"
   ]
  },
  {
   "cell_type": "markdown",
   "metadata": {
    "slideshow": {
     "slide_type": "slide"
    }
   },
   "source": [
    "## Sets\n",
    "Unordered container that only allows unique elements"
   ]
  },
  {
   "cell_type": "code",
   "execution_count": 14,
   "metadata": {
    "slideshow": {
     "slide_type": "subslide"
    }
   },
   "outputs": [],
   "source": [
    "# creation\n",
    "s = {1, 2, 3, 4}\n",
    "\n",
    "# equivalently, s = set([1,2,3,4])"
   ]
  },
  {
   "cell_type": "code",
   "execution_count": 15,
   "metadata": {
    "slideshow": {
     "slide_type": "subslide"
    }
   },
   "outputs": [
    {
     "name": "stdout",
     "output_type": "stream",
     "text": [
      "False\n",
      "True\n"
     ]
    }
   ],
   "source": [
    "# testing membership\n",
    "print(4 not in s)\n",
    "print(1 in s)"
   ]
  },
  {
   "cell_type": "code",
   "execution_count": 16,
   "metadata": {
    "slideshow": {
     "slide_type": "subslide"
    }
   },
   "outputs": [
    {
     "name": "stdout",
     "output_type": "stream",
     "text": [
      "{1, 2, 4, 'Laszlo'}\n",
      "{1, 2, 4, 'Laszlo'}\n"
     ]
    }
   ],
   "source": [
    "# adding and deleting\n",
    "s.add(\"Laszlo\")\n",
    "if 3 in s:\n",
    "    s.remove(3)\n",
    "print(s)\n",
    "\n",
    "# adding a duplicate has no effect\n",
    "s.add(1)\n",
    "print(s)"
   ]
  },
  {
   "cell_type": "code",
   "execution_count": 17,
   "metadata": {
    "slideshow": {
     "slide_type": "subslide"
    }
   },
   "outputs": [
    {
     "name": "stdout",
     "output_type": "stream",
     "text": [
      "Union of s and s2 is:\n",
      "{1, 2, 3.14, 4, 3, 'Laszlo', 10, 'Sebastian'}\n",
      "Intersection of s and s2 is:\n",
      "{'Laszlo'}\n",
      "Difference of s and s2 is:\n",
      "{3, 10, 3.14, 'Sebastian'}\n"
     ]
    }
   ],
   "source": [
    "# logical operations\n",
    "s2 = set((3, \"Laszlo\", \"Sebastian\", 10, 3.14))\n",
    "\n",
    "# union\n",
    "print(\"Union of s and s2 is:\")\n",
    "print(s | s2)\n",
    "\n",
    "print(\"Intersection of s and s2 is:\")\n",
    "print(s & s2)\n",
    "\n",
    "print(\"Difference of s and s2 is:\")\n",
    "print(s2 - s)"
   ]
  },
  {
   "cell_type": "markdown",
   "metadata": {
    "slideshow": {
     "slide_type": "slide"
    }
   },
   "source": [
    "## Dictionaries\n",
    "Dictionaries map a key to an associated value, much like a dictionary maps a word to a definition.\n",
    "Values can be anything you want, keys can be almost anything (notable exception: lists)"
   ]
  },
  {
   "cell_type": "code",
   "execution_count": 40,
   "metadata": {
    "slideshow": {
     "slide_type": "subslide"
    }
   },
   "outputs": [
    {
     "data": {
      "text/plain": [
       "'Virgo'"
      ]
     },
     "execution_count": 40,
     "metadata": {},
     "output_type": "execute_result"
    }
   ],
   "source": [
    "# map name to zodiac sign\n",
    "sign = {'Sebastian': 'Virgo', 'Nancy': 'Taurus'}\n",
    "# equivalent: dict(Sebastian='Virgo', Nancy='Taurus')\n",
    "# also equivalent: dict([('Sebastian', 'Virgo'), ('Nancy', 'Taurus')])\n",
    "\n",
    "sign['Sebastian']"
   ]
  },
  {
   "cell_type": "code",
   "execution_count": 41,
   "metadata": {
    "slideshow": {
     "slide_type": "subslide"
    }
   },
   "outputs": [
    {
     "name": "stdout",
     "output_type": "stream",
     "text": [
      "{'Sebastian': 'Virgo', 'Nancy': 'Taurus', 'Alice': 'Libra'}\n"
     ]
    }
   ],
   "source": [
    "# adding\n",
    "sign['Alice'] = 'Libra'\n",
    "print(sign)"
   ]
  },
  {
   "cell_type": "code",
   "execution_count": 20,
   "metadata": {
    "slideshow": {
     "slide_type": "subslide"
    }
   },
   "outputs": [
    {
     "name": "stdout",
     "output_type": "stream",
     "text": [
      "dictionary has 3 keys\n"
     ]
    }
   ],
   "source": [
    "# number of keys\n",
    "print(\"dictionary has\", len(sign), \"keys\")"
   ]
  },
  {
   "cell_type": "code",
   "execution_count": 42,
   "metadata": {
    "slideshow": {
     "slide_type": "subslide"
    }
   },
   "outputs": [
    {
     "name": "stdout",
     "output_type": "stream",
     "text": [
      "True\n",
      "False\n"
     ]
    }
   ],
   "source": [
    "# testing membership\n",
    "print('Sebastian' in sign)\n",
    "print('Taurus' in sign)"
   ]
  },
  {
   "cell_type": "code",
   "execution_count": 43,
   "metadata": {
    "slideshow": {
     "slide_type": "subslide"
    }
   },
   "outputs": [
    {
     "name": "stdout",
     "output_type": "stream",
     "text": [
      "{'Nancy': 'Taurus', 'Alice': 'Libra'}\n"
     ]
    }
   ],
   "source": [
    "# removing\n",
    "del sign['Sebastian']\n",
    "print(sign)"
   ]
  },
  {
   "cell_type": "code",
   "execution_count": 44,
   "metadata": {
    "slideshow": {
     "slide_type": "subslide"
    }
   },
   "outputs": [
    {
     "name": "stdout",
     "output_type": "stream",
     "text": [
      "Keys:\n",
      "Nancy\n",
      "Alice\n",
      "\n",
      "Values:\n",
      "Taurus\n",
      "Libra\n",
      "\n",
      "Both:\n",
      "Nancy is a Taurus\n",
      "Alice is a Libra\n"
     ]
    }
   ],
   "source": [
    "# iterating over: keys, values, both (called \"items\")\n",
    "print(\"Keys:\")\n",
    "for k in sign:\n",
    "    print(k)\n",
    "print()\n",
    "print(\"Values:\")\n",
    "for v in sign.values():\n",
    "    print(v)\n",
    "print()\n",
    "print(\"Both:\")\n",
    "for k, v in sign.items():\n",
    "    print(k, \"is a\", v)"
   ]
  },
  {
   "cell_type": "markdown",
   "metadata": {
    "slideshow": {
     "slide_type": "slide"
    }
   },
   "source": [
    "## numpy arrays\n",
    "* Another type you will use a lot is numpy's `ndarray`, which can represent vectors, matrices, etc.\\\n",
    "* A 1D ndarray (a vector) is like a list, but supports vectorized operations\n",
    "* This is python's equivalent of the basic data type in MATLAB"
   ]
  },
  {
   "cell_type": "code",
   "execution_count": 24,
   "metadata": {
    "slideshow": {
     "slide_type": "subslide"
    }
   },
   "outputs": [
    {
     "name": "stdout",
     "output_type": "stream",
     "text": [
      "[2 3 4]\n",
      "[0 1 2]\n",
      "[1 2 3]\n",
      "[1.         0.5        0.33333333]\n",
      "[1 4 9]\n"
     ]
    }
   ],
   "source": [
    "# vectors and vector operations\n",
    "# all are element-wise\n",
    "a = np.array([1, 2, 3])\n",
    "b = np.array([1, 1, 1])\n",
    "\n",
    "print(a + b)\n",
    "print(a - b)\n",
    "print(a*b)\n",
    "print(b/a)\n",
    "print(a**2)"
   ]
  },
  {
   "cell_type": "code",
   "execution_count": 25,
   "metadata": {
    "slideshow": {
     "slide_type": "subslide"
    }
   },
   "outputs": [
    {
     "name": "stdout",
     "output_type": "stream",
     "text": [
      "[[1. 0. 0.]\n",
      " [0. 1. 0.]\n",
      " [0. 0. 1.]]\n"
     ]
    }
   ],
   "source": [
    "# matrices (2d arrays)\n",
    "A = np.array([[1, 0, 0],\n",
    "              [0, 1, 0],\n",
    "              [0, 0, 1]])\n",
    "# equivalent\n",
    "A = np.eye(3)\n",
    "print(A)"
   ]
  },
  {
   "cell_type": "code",
   "execution_count": 26,
   "metadata": {
    "slideshow": {
     "slide_type": "subslide"
    }
   },
   "outputs": [
    {
     "name": "stdout",
     "output_type": "stream",
     "text": [
      "[1. 2. 3.]\n",
      "[1. 2. 3.]\n"
     ]
    }
   ],
   "source": [
    "# since normal * is element-wise, matrix multiplication demands a separate function\n",
    "c = np.dot(A, a)\n",
    "print(c)\n",
    "\n",
    "# OR if you are using Python 3.4+, as I recommend, there is a dedicated matrix multiplication operator...\n",
    "c = A@a\n",
    "print(c)"
   ]
  },
  {
   "cell_type": "markdown",
   "metadata": {
    "slideshow": {
     "slide_type": "subslide"
    }
   },
   "source": [
    "* You can even have more than 2 dimensions (tensors) if you want\n",
    "* There are dozens of other things numpy implements, some of which we've already seen (`mean`, `amax`, `amin`, etc.)\n",
    "* Don't reinvent the wheel; look at the documentation if you need something"
   ]
  },
  {
   "cell_type": "markdown",
   "metadata": {
    "slideshow": {
     "slide_type": "slide"
    }
   },
   "source": [
    "# Generating an ER network\n",
    "* This model ($G(n,p)$) is parameterized by number of nodes $n$ and connection probability $p$\n",
    "* We will implement this as a function that takes $n$, $p$ as arguments"
   ]
  },
  {
   "cell_type": "code",
   "execution_count": 27,
   "metadata": {
    "slideshow": {
     "slide_type": "subslide"
    }
   },
   "outputs": [],
   "source": [
    "def erdos_renyi(n, p):\n",
    "    # Create an empty graph\n",
    "    G = nx.Graph()\n",
    "    \n",
    "    # add nodes (integers between zero and n-1)\n",
    "    G.add_nodes_from(range(0, n))\n",
    "    \n",
    "    # for all possible pairs of nodes, add a link with probability p\n",
    "    for node1 in range(0, n):\n",
    "        for node2 in xrange(node1 + 1, n):\n",
    "            if np.random.uniform() < p:\n",
    "                G.add_edge(node1, node2)\n",
    "    return G"
   ]
  },
  {
   "cell_type": "code",
   "execution_count": 28,
   "metadata": {
    "slideshow": {
     "slide_type": "fragment"
    }
   },
   "outputs": [],
   "source": [
    "# More pythonic way\n",
    "import itertools as it\n",
    "\n",
    "def erdos_renyi(n, p):\n",
    "    G = nx.Graph()\n",
    "    nodes = range(n)\n",
    "    G.add_nodes_from(nodes)\n",
    "    G.add_edges_from(edge for edge in it.combinations(nodes, 2) if np.random.uniform() < p)\n",
    "    return G"
   ]
  },
  {
   "cell_type": "markdown",
   "metadata": {
    "slideshow": {
     "slide_type": "subslide"
    }
   },
   "source": [
    "### Let's test to see if it works"
   ]
  },
  {
   "cell_type": "code",
   "execution_count": 47,
   "metadata": {
    "slideshow": {
     "slide_type": "fragment"
    }
   },
   "outputs": [
    {
     "name": "stdout",
     "output_type": "stream",
     "text": [
      "G has 1000 nodes.\n",
      "G has 4956 edges.\n",
      "Avg. degree of G is 9.912.\n"
     ]
    }
   ],
   "source": [
    "G = erdos_renyi(10**3, 1e-2)\n",
    "\n",
    "print(\"G has {0} nodes.\".format(len(G)))\n",
    "print(\"G has {0} edges.\".format(G.size()))\n",
    "degrees = [G.degree(node) for node in G]\n",
    "print(\"Avg. degree of G is {0}.\".format(np.mean(degrees)))"
   ]
  },
  {
   "cell_type": "markdown",
   "metadata": {
    "slideshow": {
     "slide_type": "fragment"
    }
   },
   "source": [
    "Do these statistics make sense for the $n$ and $p$ we provided?"
   ]
  },
  {
   "cell_type": "markdown",
   "metadata": {
    "slideshow": {
     "slide_type": "subslide"
    }
   },
   "source": [
    "You can test how long it takes to run something using the IPython \"magic\" commands `%time` or `%timeit` (the former runs something once, the latter does it a bunch of times and takes the average)"
   ]
  },
  {
   "cell_type": "code",
   "execution_count": 49,
   "metadata": {
    "slideshow": {
     "slide_type": "fragment"
    }
   },
   "outputs": [
    {
     "name": "stdout",
     "output_type": "stream",
     "text": [
      "Varying n:\n",
      "CPU times: user 3.56 ms, sys: 1.11 ms, total: 4.67 ms\n",
      "Wall time: 4.04 ms\n",
      "CPU times: user 280 ms, sys: 1.75 ms, total: 282 ms\n",
      "Wall time: 281 ms\n",
      "CPU times: user 27.8 s, sys: 38.5 ms, total: 27.8 s\n",
      "Wall time: 27.9 s\n",
      "Varying p:\n",
      "CPU times: user 3.2 ms, sys: 432 µs, total: 3.63 ms\n",
      "Wall time: 3.42 ms\n",
      "CPU times: user 3 ms, sys: 161 µs, total: 3.16 ms\n",
      "Wall time: 3.11 ms\n",
      "CPU times: user 3.12 ms, sys: 346 µs, total: 3.46 ms\n",
      "Wall time: 3.33 ms\n"
     ]
    },
    {
     "data": {
      "text/plain": [
       "<networkx.classes.graph.Graph at 0x7f8b3243c6d8>"
      ]
     },
     "execution_count": 49,
     "metadata": {},
     "output_type": "execute_result"
    }
   ],
   "source": [
    "print(\"Varying n:\")\n",
    "%time erdos_renyi(10**2, 1e-3)\n",
    "%time erdos_renyi(10**3, 1e-3)\n",
    "%time erdos_renyi(10**4, 1e-3)\n",
    "\n",
    "print(\"Varying p:\")\n",
    "%time erdos_renyi(10**2, 1e-4)\n",
    "%time erdos_renyi(10**2, 1e-3)\n",
    "%time erdos_renyi(10**2, 1e-2)"
   ]
  },
  {
   "cell_type": "markdown",
   "metadata": {
    "slideshow": {
     "slide_type": "fragment"
    }
   },
   "source": [
    "Does the scaling of these running times make sense given how we implemented the algorithm? What is the running time, in Big-$\\mathcal{O}$ notation, of our ER implementation in terns of the network size $N$? In terms of $p$?"
   ]
  },
  {
   "cell_type": "markdown",
   "metadata": {
    "slideshow": {
     "slide_type": "slide"
    }
   },
   "source": [
    "# Breadth first search"
   ]
  },
  {
   "cell_type": "code",
   "execution_count": 31,
   "metadata": {
    "slideshow": {
     "slide_type": "fragment"
    }
   },
   "outputs": [],
   "source": [
    "# a deque is like a list, but it supports O(1) time insertion/removal at either end\n",
    "from collections import deque\n",
    "\n",
    "def bfs(G, source):\n",
    "    \"\"\" return a dictionary that maps node-->distance for all nodes reachable\n",
    "        from the source node, in the unweighted undirected graph G \"\"\"\n",
    "    # set of nodes left to visit\n",
    "    nodes = deque()\n",
    "    nodes.append(source)\n",
    "    \n",
    "    # dictionary that gives True or False for each node\n",
    "    visited = {node:False for node in G}\n",
    "    visited[source] = True\n",
    "    \n",
    "    # Initial distances to source are: 0 for source itself, infinity otherwise\n",
    "    dist = {node: np.inf for node in G}\n",
    "    dist[source] = 0\n",
    "    \n",
    "    # while (container) is shorthand for \"while this container is not empty\"\n",
    "    while nodes:\n",
    "        # take the earliest-added element to the deque (why do we do this instead of popright?)\n",
    "        node = nodes.popleft()\n",
    "        \n",
    "        # visit all neighbors unless they've been visited, record their distances\n",
    "        for nbr in G.neighbors(node):\n",
    "            if not visited[nbr]:\n",
    "                dist[nbr] = dist[node] + 1\n",
    "                visited[nbr] = True\n",
    "                nodes.append(nbr)\n",
    "    return dist"
   ]
  },
  {
   "cell_type": "markdown",
   "metadata": {
    "slideshow": {
     "slide_type": "slide"
    }
   },
   "source": [
    "# Components\n",
    "As explained in the slides, we can use BFS mutiple times to get all the components"
   ]
  },
  {
   "cell_type": "code",
   "execution_count": 32,
   "metadata": {
    "slideshow": {
     "slide_type": "fragment"
    }
   },
   "outputs": [],
   "source": [
    "def components(G):\n",
    "    \"\"\" return a list of tuples, where each tuple is the nodes in in a component of G \"\"\"\n",
    "    components = []\n",
    "    \n",
    "    nodes_left = set(G.nodes())\n",
    "    while nodes_left:\n",
    "        src = nodes_left.pop()\n",
    "        dist = bfs(G, src)\n",
    "        component = tuple(node for node in dist.keys() if dist[node] < np.inf)\n",
    "        components.append(component)\n",
    "        nodes_left = nodes_left - set(component)\n",
    "    return components"
   ]
  },
  {
   "cell_type": "markdown",
   "metadata": {
    "slideshow": {
     "slide_type": "subslide"
    }
   },
   "source": [
    "Let's test it on the 100 node network we generated above"
   ]
  },
  {
   "cell_type": "code",
   "execution_count": 50,
   "metadata": {
    "slideshow": {
     "slide_type": "fragment"
    }
   },
   "outputs": [
    {
     "name": "stdout",
     "output_type": "stream",
     "text": [
      "[1000]\n"
     ]
    }
   ],
   "source": [
    "# get list of all components\n",
    "C = components(G)\n",
    "\n",
    "# sort the components by size in descending order\n",
    "C = sorted(C, key=lambda c: len(c), reverse=True)\n",
    "\n",
    "# print the lengths of the components\n",
    "component_sizes = [len(c) for c in C]\n",
    "print(component_sizes)"
   ]
  },
  {
   "cell_type": "markdown",
   "metadata": {
    "slideshow": {
     "slide_type": "slide"
    }
   },
   "source": [
    "# Hands-on\n",
    "* Let's use what we've learned today to reproduce some of the results on pg. 16 of Chapter 3: Random Networks\n",
    "* I need 4 groups: Subcritical, Critical, Supercritical, and Connected\n",
    "* ***You can use the networkx function `fast_gnp_random_graph(n, p)` to generate your networks***"
   ]
  },
  {
   "cell_type": "markdown",
   "metadata": {
    "slideshow": {
     "slide_type": "subslide"
    }
   },
   "source": [
    "## Subcritical, Critical, and Supercritical groups\n",
    "You will consider networks of average degree $k = 0.5, k=1$, and $k=2$ respectively. Choose connection probabilities accordingly. Each group must do the following:\n",
    "* Generate one random network each of sizes $N=10^2, 10^3, 10^4, 10^5$, and $10^6$ using your group's average degree\n",
    "* For each network, use the code above to get the connected components. \n",
    "* Following the lesson on plotting distributions in the last lecture, modify the code from the last lecture to\n",
    "plot the distribution of the sizes of the connected components in log-log scale. Plot this for all the networks in the same figure using different colors. \n",
    "* Calculate the size of the largest component for each of the 5 networks. Are they giant components? Write new code to plot the largest component size as a function of N in semi-log scale (hint: use `plt.semilogx`)\n",
    "* Compare the above two results with your expectation from the book"
   ]
  },
  {
   "cell_type": "code",
   "execution_count": null,
   "metadata": {},
   "outputs": [],
   "source": []
  },
  {
   "cell_type": "code",
   "execution_count": null,
   "metadata": {},
   "outputs": [],
   "source": []
  },
  {
   "cell_type": "code",
   "execution_count": null,
   "metadata": {
    "slideshow": {
     "slide_type": "-"
    }
   },
   "outputs": [],
   "source": []
  },
  {
   "cell_type": "markdown",
   "metadata": {
    "slideshow": {
     "slide_type": "subslide"
    }
   },
   "source": [
    "## Connected group\n",
    "You will consider networks of average degree $k = 20$; choose connection probabilities accordingly. You must do the following:\n",
    "* Generate one random network each of sizes $N=10^2, 10^3, 10^4, 10^5,$ and $10^6$ with this average degree.\n",
    "* Use `%timeit` on BFS for the network of size $10^6$ (you can pick an arbitrary source node. Why is that?) to get the number of seconds it takes on your laptop to get single-source shortest paths. Using this, give an estimate of how long it would take to calculate the diameter of this network, which would require calculating shortest path lengths for ALL possible pairs.\n",
    "* As an alternative, figure out what the following code is doing to calculate the diameter approximately. Explain to the class.\n",
    "* Use this code to plot the \"pseudo-diameter\" as a function of N in semi-log scale (hint: use `plt.semilogx`)"
   ]
  },
  {
   "cell_type": "code",
   "execution_count": 37,
   "metadata": {
    "slideshow": {
     "slide_type": "fragment"
    }
   },
   "outputs": [],
   "source": [
    "import random\n",
    "\n",
    "def pseudo_diameter(G):\n",
    "    # diameter = infinity if not connected\n",
    "    if not nx.is_connected(G):\n",
    "        return np.inf\n",
    "    \n",
    "    # pick a node from G randomly\n",
    "    nodes = list(G.nodes())\n",
    "    u = random.choice(nodes)\n",
    "    diam = 0\n",
    "    while True:\n",
    "        # what do you think this does? You are allowed to read the NetworkX documentation\n",
    "        d = nx.single_source_shortest_path_length(G, u)\n",
    "        \n",
    "        # get farthest node from u & the corresponding distance\n",
    "        farthest_node, d_max = max(d.items(), key=lambda item: item[1])\n",
    "        if d_max <= diam:\n",
    "            return diam\n",
    "        else:\n",
    "            u = farthest_node\n",
    "            diam = d_max"
   ]
  },
  {
   "cell_type": "markdown",
   "metadata": {
    "slideshow": {
     "slide_type": "slide"
    }
   },
   "source": [
    "# Don't reinvent the wheel\n",
    "\n",
    "Now that you understand how some basic graph analysis algorithms work, you should never use them again and instead use the following off-the-shelf commands which are better written and faster."
   ]
  },
  {
   "cell_type": "markdown",
   "metadata": {
    "slideshow": {
     "slide_type": "subslide"
    }
   },
   "source": [
    "## Graph generation"
   ]
  },
  {
   "cell_type": "markdown",
   "metadata": {},
   "source": [
    "* ***`erdos_renyi_graph(n, p)`***   \n",
    "Generate a random graph. More or less the same as we implemented above.\n",
    "* ***`fast_gnp_random_graph(n, p)`***   \n",
    "Much faster for sparse graphs"
   ]
  },
  {
   "cell_type": "markdown",
   "metadata": {
    "slideshow": {
     "slide_type": "subslide"
    }
   },
   "source": [
    "## Paths and path length\n",
    "All of the below work on both `Graph` and `DiGraph` objects"
   ]
  },
  {
   "cell_type": "markdown",
   "metadata": {
    "slideshow": {
     "slide_type": "-"
    }
   },
   "source": [
    "* ***`has_path(G, source, dest)`***   \n",
    "test to see if there is a path (of any length) in G from `source` to `dest`   \n",
    "* ***`shortest_path(G, source, dest)`*** and ***`shortest_path_length(G, source, dest)`***   \n",
    "former returns path as a sequence of nodes, latter only returns the length   \n",
    "* ***`all_shortest_paths(G, source, dest)`***   \n",
    "same as above, but gives ALL shortest paths   \n",
    "* ***`single_source_shortest_path(G, source)`*** and ***`single_source_shortest_path_length(G, source)`***   \n",
    "return dictionary `d` where `d[node]` is respectively, the shortest path/path length from `source` to `node`   \n",
    "* ***`all_pairs_shortest_path(G)`*** and ***`all_pairs_shortest_path_length(G)`***   \n",
    "return dictionary `d` where `d[node1][node2]` is as above   \n",
    "* ***`dijkstra_path(G, source, dest)`*** and ***`dijkstra_path_length(G, source, dest)`***   \n",
    "As above, but for weighted `Graph`/`DiGraph` objects   \n",
    "* ***`single_source_dijkstra_path(G, source)`*** and ***`single_source_dijkstra_path_length(G, source)`***   \n",
    "As above, but for weighted `Graph`/`DiGraph` objects  "
   ]
  },
  {
   "cell_type": "markdown",
   "metadata": {
    "slideshow": {
     "slide_type": "subslide"
    }
   },
   "source": [
    "## Searching\n",
    "All of the below work on both `Graph` and `DiGraph` objects"
   ]
  },
  {
   "cell_type": "markdown",
   "metadata": {},
   "source": [
    "* ***`bfs_tree(G, source)`***   \n",
    "Return a Di/Graph representing the tree spanned by a breadth-first search starting at `source`   \n",
    "* ***`dfs_tree(G, source)`***  \n",
    "Same using depth-first search (gives same result)   \n",
    "* ***`all_shortest_paths(G, source, dest)`***   \n",
    "same as above, but gives ALL shortest paths   "
   ]
  },
  {
   "cell_type": "markdown",
   "metadata": {
    "slideshow": {
     "slide_type": "subslide"
    }
   },
   "source": [
    "## Connectedness (Undirected)\n",
    "The below work only on `Graph` objects"
   ]
  },
  {
   "cell_type": "markdown",
   "metadata": {},
   "source": [
    "* ***`is_connected(G)`***   \n",
    "`True` or `False` depending on whether `G` is connected or not      \n",
    "* ***`connected_components(G)`***     \n",
    "Return a list of lists, where each sub-list contains the nodes in one component   \n",
    "* ***`number_connected_components(G)`***      \n",
    "Returns only the length of the list above   \n",
    "* ***`connected_component_sugraphs(G)`***      \n",
    "Returns a list of new `Graph` objects each representing a component of `G`   \n",
    "* ***`node_connected_component(G, node)`***      \n",
    "Return a list of the nodes in the component of `G` containing `node`   "
   ]
  },
  {
   "cell_type": "markdown",
   "metadata": {
    "slideshow": {
     "slide_type": "subslide"
    }
   },
   "source": [
    "## Connectedness (Strong and weak)\n",
    "The commands below work only on `DiGraph` objects\n",
    "\n",
    "Note: the `is_weakly_` versions are equivalent to first converting the DiGraph to undirected using G.undirected(), and then running the undirected equivalents above."
   ]
  },
  {
   "cell_type": "markdown",
   "metadata": {},
   "source": [
    "* ***`is_strongly_connected(G)`***   \n",
    "* ***`strongly_connected_components(G)`***     \n",
    "* ***`number_strongly_connected_components(G)`***      \n",
    "* ***`strongly_connected_component_sugraphs(G)`***     \n",
    "\n",
    "\n",
    "* ***`is_weakly_connected(G)`***   \n",
    "* ***`weakly_connected_components(G)`***     \n",
    "* ***`number_weakly_connected_components(G)`***      \n",
    "* ***`weakly_connected_component_sugraphs(G)`***  \n",
    "\n",
    "All are analogous to the undirected case   \n",
    "  "
   ]
  },
  {
   "cell_type": "markdown",
   "metadata": {
    "slideshow": {
     "slide_type": "slide"
    }
   },
   "source": [
    "# Networks with scale-free degree distributions\n",
    "* Let's use the configuration model to generate networks with (approximately) scale-free degree distributions.\n",
    "* `configuration_model` in NetworkX produces a MultiGraph. Why? We will change that into a regular graph."
   ]
  },
  {
   "cell_type": "markdown",
   "metadata": {
    "slideshow": {
     "slide_type": "fragment"
    }
   },
   "source": [
    "Remember, the configuration model takes as input a desired degree sequence. It then spits out a network having that degree sequence. So first, we need to be able to randomly generate degrees following a power-law distribution."
   ]
  },
  {
   "cell_type": "code",
   "execution_count": 38,
   "metadata": {
    "slideshow": {
     "slide_type": "fragment"
    }
   },
   "outputs": [],
   "source": [
    "def powerlaw_degree_sequence(n, gamma, k_min):\n",
    "    \"\"\" Implements the method for generating power-law distributed numbers\n",
    "    from uniformly-distributed numbers described in Clauset et al., 2009,\n",
    "    appendix D\"\"\"\n",
    "    r = np.random.uniform(0, 1, size=n)\n",
    "    deg = np.floor((k_min-0.5)*(1.0 - r)**(-1.0/(gamma-1)) + 0.5)\n",
    "    deg = list(map(int, deg))\n",
    "    return deg"
   ]
  },
  {
   "cell_type": "code",
   "execution_count": 39,
   "metadata": {
    "slideshow": {
     "slide_type": "fragment"
    }
   },
   "outputs": [],
   "source": [
    "def sf_net(n,  gamma, k_min):\n",
    "    deg = powerlaw_degree_sequence(n, gamma, k_min)\n",
    "    # sum of all degrees must be even. Why is that?\n",
    "    if sum(deg) % 2 == 1:\n",
    "        deg[0] += 1\n",
    "    G = nx.configuration_model(deg)\n",
    "    H = nx.Graph(G)\n",
    "    H.remove_edges_from(H.selfloop_edges())\n",
    "    return H"
   ]
  },
  {
   "cell_type": "markdown",
   "metadata": {
    "slideshow": {
     "slide_type": "slide"
    }
   },
   "source": [
    "# Hands-on exercise\n",
    "* Split into four groups, one each for $\\gamma = 2.001, 2.5, 3$, and $3.5$\n",
    "* All groups should use the above code to generate networks of sizes $10^2 \\ldots 10^5$ as before with their chosen scaling exponent. Generate all networks with minimum degree cutoff $k_{min}$= 5"
   ]
  },
  {
   "cell_type": "markdown",
   "metadata": {
    "slideshow": {
     "slide_type": "subslide"
    }
   },
   "source": [
    "* First, measure the maximum degree of each network $k_{max}$, and then plot kmax in log-log scale as a function of $N$ \n",
    "* Next, I want you to plot the average shortest-path distance as a function of $N$ in semi-log scale. \n",
    "* Note that for larger networks it will be impossible to measure all pairs shortest paths. As an approximation, you should take a random *sample* of pairs of nodes (src, dest), measure the shortest path length between src and dest, and then take the average. Use 100 random node pairs per network."
   ]
  },
  {
   "cell_type": "markdown",
   "metadata": {
    "slideshow": {
     "slide_type": "subslide"
    }
   },
   "source": [
    "* Hint 1: `[np.random.choice(G, size=2, replace=False) for _ in range(100)]` will give you a list of 100 random\n",
    "node pairs from G\n",
    "* Hint 2: You will need to run this within one component. Choose the largest. The following code will sort the components from largest to smallest\n",
    "\n",
    "`components = sorted(components, key=len, reverse=True)`\n",
    "\n",
    "You can then use the `subgraph` command on the first component (`components[0]`)\n",
    "* Hint 3: Use `nx.shortest_path_length` and `nx.connected_components`. They are faster than what we've written."
   ]
  }
 ],
 "metadata": {
  "celltoolbar": "Slideshow",
  "kernelspec": {
   "display_name": "Python 3",
   "language": "python",
   "name": "python3"
  },
  "language_info": {
   "codemirror_mode": {
    "name": "ipython",
    "version": 3
   },
   "file_extension": ".py",
   "mimetype": "text/x-python",
   "name": "python",
   "nbconvert_exporter": "python",
   "pygments_lexer": "ipython3",
   "version": "3.7.3"
  }
 },
 "nbformat": 4,
 "nbformat_minor": 1
}
